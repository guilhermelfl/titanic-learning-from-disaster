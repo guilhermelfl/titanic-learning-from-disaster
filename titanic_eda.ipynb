{
 "cells": [
  {
   "cell_type": "markdown",
   "metadata": {},
   "source": [
    "# Project: Titanic: Exploration Data Analysis and Machine Learning from Disaster\n",
    "By Guilherme Landim Frota Leitão\n",
    "\n",
    "Date Jan, 2019\n",
    "\n",
    "\n",
    "<img src=\"https://upload.wikimedia.org/wikipedia/commons/f/fd/RMS_Titanic_3.jpg\" width=\"500\" height=\"400\" />\n",
    "\n",
    "[(Font: Titanic)](https://pt.wikipedia.org/wiki/RMS_Titanic)\n",
    "\n",
    "\n",
    "## Table of Contents\n",
    "<ul>\n",
    "<li><a href=\"#intro\">Introduction</a></li>\n",
    "<li><a href=\"#wrangling\">Data Wrangling</a></li>\n",
    "<li><a href=\"#eda\">Exploratory Data Analysis</a></li>\n",
    "<li><a href=\"#ml\">Machine Learning</a></li>\n",
    "<li><a href=\"#conclusions\">Conclusions</a></li>\n",
    "</ul>"
   ]
  },
  {
   "cell_type": "markdown",
   "metadata": {},
   "source": [
    "<a id='intro'></a>\n",
    "## Introduction\n",
    "\n",
    "> The sinking of the RMS Titanic is one of the most infamous shipwrecks in history.  On April 15, 1912, during her maiden voyage, the Titanic sank after colliding with an iceberg, killing 1502 out of 2224 passengers and crew. This sensational tragedy shocked the international community and led to better safety regulations for ships.\n",
    "\n",
    ">One of the reasons that the shipwreck led to such loss of life was that there were not enough lifeboats for the passengers and crew. Although there was some element of luck involved in surviving the sinking, some groups of people were more likely to survive than others, such as women, children, and the upper-class.\n",
    "\n",
    "In this project we'll analyse the data to discouver what sorts of people were likely to survive.\n",
    "We'll see statistics with data analysis and we'll use machine learning tools to predict which passengers survived the tragedy.\n",
    "\n",
    "\n",
    "\n",
    "** Data Dictionary ** [Font: Kaggle](https://www.kaggle.com/c/titanic/data)\n",
    "\n",
    "* Survival - If the passenger survived(1) or don't(0)\n",
    "* pclass - Ticket class: 1= 1st, 2= 2nd, 3= 3rd\n",
    "* sex\n",
    "* age - Age in years\n",
    "* sibsp - # of siblings/spouses aboard the Titanic\n",
    "* parch - # of parents/children aboard the Titanic\n",
    "* ticket - Ticket Number\n",
    "* fare - Passenger fare\n",
    "* cabin - Cabin Number\n",
    "* embarked - Port of Embarkation: C=Cherbourg, Q=Queenstown, S=Southampton"
   ]
  },
  {
   "cell_type": "code",
   "execution_count": 1,
   "metadata": {},
   "outputs": [],
   "source": [
    "# imports\n",
    "import pandas as pd\n",
    "import numpy as np\n",
    "import matplotlib.pyplot as plt\n",
    "import seaborn as sns\n",
    "from time import time\n",
    "# matplot magic line\n",
    "%matplotlib inline"
   ]
  },
  {
   "cell_type": "markdown",
   "metadata": {},
   "source": [
    "<a id='wrangling'></a>\n",
    "## Data Wrangling\n",
    "\n",
    "In this segment we will Gather, Asses and Clean the Data."
   ]
  },
  {
   "cell_type": "markdown",
   "metadata": {},
   "source": [
    "### Gathering"
   ]
  },
  {
   "cell_type": "code",
   "execution_count": 2,
   "metadata": {},
   "outputs": [],
   "source": [
    "#gathering datasets from csv files from KAGGLE\n",
    "titanic_df = pd.read_csv(\"./input_data/train.csv\")\n",
    "test_df    = pd.read_csv(\"./input_data/test.csv\")"
   ]
  },
  {
   "cell_type": "markdown",
   "metadata": {},
   "source": [
    "### Assessing Data"
   ]
  },
  {
   "cell_type": "code",
   "execution_count": 3,
   "metadata": {
    "scrolled": false
   },
   "outputs": [
    {
     "data": {
      "text/html": [
       "<div>\n",
       "<style scoped>\n",
       "    .dataframe tbody tr th:only-of-type {\n",
       "        vertical-align: middle;\n",
       "    }\n",
       "\n",
       "    .dataframe tbody tr th {\n",
       "        vertical-align: top;\n",
       "    }\n",
       "\n",
       "    .dataframe thead th {\n",
       "        text-align: right;\n",
       "    }\n",
       "</style>\n",
       "<table border=\"1\" class=\"dataframe\">\n",
       "  <thead>\n",
       "    <tr style=\"text-align: right;\">\n",
       "      <th></th>\n",
       "      <th>PassengerId</th>\n",
       "      <th>Survived</th>\n",
       "      <th>Pclass</th>\n",
       "      <th>Name</th>\n",
       "      <th>Sex</th>\n",
       "      <th>Age</th>\n",
       "      <th>SibSp</th>\n",
       "      <th>Parch</th>\n",
       "      <th>Ticket</th>\n",
       "      <th>Fare</th>\n",
       "      <th>Cabin</th>\n",
       "      <th>Embarked</th>\n",
       "    </tr>\n",
       "  </thead>\n",
       "  <tbody>\n",
       "    <tr>\n",
       "      <th>386</th>\n",
       "      <td>387</td>\n",
       "      <td>0</td>\n",
       "      <td>3</td>\n",
       "      <td>Goodwin, Master. Sidney Leonard</td>\n",
       "      <td>male</td>\n",
       "      <td>1.0</td>\n",
       "      <td>5</td>\n",
       "      <td>2</td>\n",
       "      <td>CA 2144</td>\n",
       "      <td>46.9000</td>\n",
       "      <td>NaN</td>\n",
       "      <td>S</td>\n",
       "    </tr>\n",
       "    <tr>\n",
       "      <th>604</th>\n",
       "      <td>605</td>\n",
       "      <td>1</td>\n",
       "      <td>1</td>\n",
       "      <td>Homer, Mr. Harry (\"Mr E Haven\")</td>\n",
       "      <td>male</td>\n",
       "      <td>35.0</td>\n",
       "      <td>0</td>\n",
       "      <td>0</td>\n",
       "      <td>111426</td>\n",
       "      <td>26.5500</td>\n",
       "      <td>NaN</td>\n",
       "      <td>C</td>\n",
       "    </tr>\n",
       "    <tr>\n",
       "      <th>612</th>\n",
       "      <td>613</td>\n",
       "      <td>1</td>\n",
       "      <td>3</td>\n",
       "      <td>Murphy, Miss. Margaret Jane</td>\n",
       "      <td>female</td>\n",
       "      <td>NaN</td>\n",
       "      <td>1</td>\n",
       "      <td>0</td>\n",
       "      <td>367230</td>\n",
       "      <td>15.5000</td>\n",
       "      <td>NaN</td>\n",
       "      <td>Q</td>\n",
       "    </tr>\n",
       "    <tr>\n",
       "      <th>780</th>\n",
       "      <td>781</td>\n",
       "      <td>1</td>\n",
       "      <td>3</td>\n",
       "      <td>Ayoub, Miss. Banoura</td>\n",
       "      <td>female</td>\n",
       "      <td>13.0</td>\n",
       "      <td>0</td>\n",
       "      <td>0</td>\n",
       "      <td>2687</td>\n",
       "      <td>7.2292</td>\n",
       "      <td>NaN</td>\n",
       "      <td>C</td>\n",
       "    </tr>\n",
       "    <tr>\n",
       "      <th>143</th>\n",
       "      <td>144</td>\n",
       "      <td>0</td>\n",
       "      <td>3</td>\n",
       "      <td>Burke, Mr. Jeremiah</td>\n",
       "      <td>male</td>\n",
       "      <td>19.0</td>\n",
       "      <td>0</td>\n",
       "      <td>0</td>\n",
       "      <td>365222</td>\n",
       "      <td>6.7500</td>\n",
       "      <td>NaN</td>\n",
       "      <td>Q</td>\n",
       "    </tr>\n",
       "  </tbody>\n",
       "</table>\n",
       "</div>"
      ],
      "text/plain": [
       "     PassengerId  Survived  Pclass                             Name     Sex  \\\n",
       "386          387         0       3  Goodwin, Master. Sidney Leonard    male   \n",
       "604          605         1       1  Homer, Mr. Harry (\"Mr E Haven\")    male   \n",
       "612          613         1       3      Murphy, Miss. Margaret Jane  female   \n",
       "780          781         1       3             Ayoub, Miss. Banoura  female   \n",
       "143          144         0       3              Burke, Mr. Jeremiah    male   \n",
       "\n",
       "      Age  SibSp  Parch   Ticket     Fare Cabin Embarked  \n",
       "386   1.0      5      2  CA 2144  46.9000   NaN        S  \n",
       "604  35.0      0      0   111426  26.5500   NaN        C  \n",
       "612   NaN      1      0   367230  15.5000   NaN        Q  \n",
       "780  13.0      0      0     2687   7.2292   NaN        C  \n",
       "143  19.0      0      0   365222   6.7500   NaN        Q  "
      ]
     },
     "execution_count": 3,
     "metadata": {},
     "output_type": "execute_result"
    }
   ],
   "source": [
    "#Preview random lines from titanic data\n",
    "titanic_df.sample(5)"
   ]
  },
  {
   "cell_type": "markdown",
   "metadata": {},
   "source": [
    "We can notice there are passengers without Age and Cabin."
   ]
  },
  {
   "cell_type": "code",
   "execution_count": 4,
   "metadata": {
    "scrolled": true
   },
   "outputs": [
    {
     "data": {
      "text/html": [
       "<div>\n",
       "<style scoped>\n",
       "    .dataframe tbody tr th:only-of-type {\n",
       "        vertical-align: middle;\n",
       "    }\n",
       "\n",
       "    .dataframe tbody tr th {\n",
       "        vertical-align: top;\n",
       "    }\n",
       "\n",
       "    .dataframe thead th {\n",
       "        text-align: right;\n",
       "    }\n",
       "</style>\n",
       "<table border=\"1\" class=\"dataframe\">\n",
       "  <thead>\n",
       "    <tr style=\"text-align: right;\">\n",
       "      <th></th>\n",
       "      <th>PassengerId</th>\n",
       "      <th>Survived</th>\n",
       "      <th>Pclass</th>\n",
       "      <th>Age</th>\n",
       "      <th>SibSp</th>\n",
       "      <th>Parch</th>\n",
       "      <th>Fare</th>\n",
       "    </tr>\n",
       "  </thead>\n",
       "  <tbody>\n",
       "    <tr>\n",
       "      <th>count</th>\n",
       "      <td>891.000000</td>\n",
       "      <td>891.000000</td>\n",
       "      <td>891.000000</td>\n",
       "      <td>714.000000</td>\n",
       "      <td>891.000000</td>\n",
       "      <td>891.000000</td>\n",
       "      <td>891.000000</td>\n",
       "    </tr>\n",
       "    <tr>\n",
       "      <th>mean</th>\n",
       "      <td>446.000000</td>\n",
       "      <td>0.383838</td>\n",
       "      <td>2.308642</td>\n",
       "      <td>29.699118</td>\n",
       "      <td>0.523008</td>\n",
       "      <td>0.381594</td>\n",
       "      <td>32.204208</td>\n",
       "    </tr>\n",
       "    <tr>\n",
       "      <th>std</th>\n",
       "      <td>257.353842</td>\n",
       "      <td>0.486592</td>\n",
       "      <td>0.836071</td>\n",
       "      <td>14.526497</td>\n",
       "      <td>1.102743</td>\n",
       "      <td>0.806057</td>\n",
       "      <td>49.693429</td>\n",
       "    </tr>\n",
       "    <tr>\n",
       "      <th>min</th>\n",
       "      <td>1.000000</td>\n",
       "      <td>0.000000</td>\n",
       "      <td>1.000000</td>\n",
       "      <td>0.420000</td>\n",
       "      <td>0.000000</td>\n",
       "      <td>0.000000</td>\n",
       "      <td>0.000000</td>\n",
       "    </tr>\n",
       "    <tr>\n",
       "      <th>25%</th>\n",
       "      <td>223.500000</td>\n",
       "      <td>0.000000</td>\n",
       "      <td>2.000000</td>\n",
       "      <td>20.125000</td>\n",
       "      <td>0.000000</td>\n",
       "      <td>0.000000</td>\n",
       "      <td>7.910400</td>\n",
       "    </tr>\n",
       "    <tr>\n",
       "      <th>50%</th>\n",
       "      <td>446.000000</td>\n",
       "      <td>0.000000</td>\n",
       "      <td>3.000000</td>\n",
       "      <td>28.000000</td>\n",
       "      <td>0.000000</td>\n",
       "      <td>0.000000</td>\n",
       "      <td>14.454200</td>\n",
       "    </tr>\n",
       "    <tr>\n",
       "      <th>75%</th>\n",
       "      <td>668.500000</td>\n",
       "      <td>1.000000</td>\n",
       "      <td>3.000000</td>\n",
       "      <td>38.000000</td>\n",
       "      <td>1.000000</td>\n",
       "      <td>0.000000</td>\n",
       "      <td>31.000000</td>\n",
       "    </tr>\n",
       "    <tr>\n",
       "      <th>max</th>\n",
       "      <td>891.000000</td>\n",
       "      <td>1.000000</td>\n",
       "      <td>3.000000</td>\n",
       "      <td>80.000000</td>\n",
       "      <td>8.000000</td>\n",
       "      <td>6.000000</td>\n",
       "      <td>512.329200</td>\n",
       "    </tr>\n",
       "  </tbody>\n",
       "</table>\n",
       "</div>"
      ],
      "text/plain": [
       "       PassengerId    Survived      Pclass         Age       SibSp  \\\n",
       "count   891.000000  891.000000  891.000000  714.000000  891.000000   \n",
       "mean    446.000000    0.383838    2.308642   29.699118    0.523008   \n",
       "std     257.353842    0.486592    0.836071   14.526497    1.102743   \n",
       "min       1.000000    0.000000    1.000000    0.420000    0.000000   \n",
       "25%     223.500000    0.000000    2.000000   20.125000    0.000000   \n",
       "50%     446.000000    0.000000    3.000000   28.000000    0.000000   \n",
       "75%     668.500000    1.000000    3.000000   38.000000    1.000000   \n",
       "max     891.000000    1.000000    3.000000   80.000000    8.000000   \n",
       "\n",
       "            Parch        Fare  \n",
       "count  891.000000  891.000000  \n",
       "mean     0.381594   32.204208  \n",
       "std      0.806057   49.693429  \n",
       "min      0.000000    0.000000  \n",
       "25%      0.000000    7.910400  \n",
       "50%      0.000000   14.454200  \n",
       "75%      0.000000   31.000000  \n",
       "max      6.000000  512.329200  "
      ]
     },
     "execution_count": 4,
     "metadata": {},
     "output_type": "execute_result"
    }
   ],
   "source": [
    "titanic_df.describe()"
   ]
  },
  {
   "cell_type": "code",
   "execution_count": 5,
   "metadata": {},
   "outputs": [
    {
     "name": "stdout",
     "output_type": "stream",
     "text": [
      "<class 'pandas.core.frame.DataFrame'>\n",
      "RangeIndex: 891 entries, 0 to 890\n",
      "Data columns (total 12 columns):\n",
      "PassengerId    891 non-null int64\n",
      "Survived       891 non-null int64\n",
      "Pclass         891 non-null int64\n",
      "Name           891 non-null object\n",
      "Sex            891 non-null object\n",
      "Age            714 non-null float64\n",
      "SibSp          891 non-null int64\n",
      "Parch          891 non-null int64\n",
      "Ticket         891 non-null object\n",
      "Fare           891 non-null float64\n",
      "Cabin          204 non-null object\n",
      "Embarked       889 non-null object\n",
      "dtypes: float64(2), int64(5), object(5)\n",
      "memory usage: 83.6+ KB\n"
     ]
    }
   ],
   "source": [
    "titanic_df.info()"
   ]
  },
  {
   "cell_type": "markdown",
   "metadata": {},
   "source": [
    "* Null values for Age\n",
    "* Null values for Cabin"
   ]
  },
  {
   "cell_type": "markdown",
   "metadata": {},
   "source": [
    "### Cleaning Data\n",
    "In this segment we will clean the data and solve the problems above\n",
    "\n",
    "Let's first make a copy of the dataframe"
   ]
  },
  {
   "cell_type": "code",
   "execution_count": 6,
   "metadata": {},
   "outputs": [],
   "source": [
    "df = titanic_df.copy()\n",
    "clean_test =test_df.copy()"
   ]
  },
  {
   "cell_type": "markdown",
   "metadata": {},
   "source": [
    "Since we don't know the logic for cabins and even if a passenger has to be in a cabin we won't change this collumn.\n",
    "\n",
    "It's better not to change the statistics, so we can fill the Age of null values as the mean of ages."
   ]
  },
  {
   "cell_type": "code",
   "execution_count": 7,
   "metadata": {},
   "outputs": [],
   "source": [
    "df['Age'] = df.Age.fillna(df.Age.mean())\n",
    "clean_test['Age'] = clean_test.Age.fillna(df.Age.mean())"
   ]
  },
  {
   "cell_type": "code",
   "execution_count": 9,
   "metadata": {},
   "outputs": [
    {
     "name": "stdout",
     "output_type": "stream",
     "text": [
      "<class 'pandas.core.frame.DataFrame'>\n",
      "RangeIndex: 418 entries, 0 to 417\n",
      "Data columns (total 11 columns):\n",
      "PassengerId    418 non-null int64\n",
      "Pclass         418 non-null int64\n",
      "Name           418 non-null object\n",
      "Sex            418 non-null object\n",
      "Age            332 non-null float64\n",
      "SibSp          418 non-null int64\n",
      "Parch          418 non-null int64\n",
      "Ticket         418 non-null object\n",
      "Fare           417 non-null float64\n",
      "Cabin          91 non-null object\n",
      "Embarked       418 non-null object\n",
      "dtypes: float64(2), int64(4), object(5)\n",
      "memory usage: 36.0+ KB\n"
     ]
    }
   ],
   "source": [
    "test_df.info()"
   ]
  },
  {
   "cell_type": "code",
   "execution_count": 8,
   "metadata": {},
   "outputs": [],
   "source": [
    "clean_test['Fare'] = clean_test.Fare.fillna(df.Age.mean())"
   ]
  },
  {
   "cell_type": "markdown",
   "metadata": {},
   "source": [
    "<a id='eda'></a>\n",
    "## Exploratory Data Analysis"
   ]
  },
  {
   "cell_type": "markdown",
   "metadata": {},
   "source": [
    "In this segment we will explore and analyse the data to get insights. We'll use the original dataset with null values for ages, since there are 177 null points it will change considerably the statistics from the original dataset."
   ]
  },
  {
   "cell_type": "code",
   "execution_count": 10,
   "metadata": {
    "scrolled": false
   },
   "outputs": [
    {
     "data": {
      "image/png": "[encoded data removed]",
      "text/plain": [
       "<Figure size 1080x1080 with 9 Axes>"
      ]
     },
     "metadata": {
      "needs_background": "light"
     },
     "output_type": "display_data"
    }
   ],
   "source": [
    "#plotting histograms of the columns\n",
    "titanic_df.hist(figsize=[15,15]);"
   ]
  },
  {
   "cell_type": "markdown",
   "metadata": {},
   "source": [
    "Let's break the dataset in two, so we can study two different groups."
   ]
  },
  {
   "cell_type": "code",
   "execution_count": 11,
   "metadata": {},
   "outputs": [],
   "source": [
    "survived = df.Survived == 1\n",
    "no_survived = df.Survived == 0"
   ]
  },
  {
   "cell_type": "markdown",
   "metadata": {},
   "source": [
    "> The first question we can ask is the age distribution for the passengers, and for the graphic bellow we can notice that the main age is near 30 years old, considering that people who we don't have this "
   ]
  },
  {
   "cell_type": "code",
   "execution_count": 12,
   "metadata": {
    "scrolled": false
   },
   "outputs": [
    {
     "data": {
      "image/png": "[encoded data removed]",
      "text/plain": [
       "<Figure size 576x576 with 1 Axes>"
      ]
     },
     "metadata": {
      "needs_background": "light"
     },
     "output_type": "display_data"
    }
   ],
   "source": [
    "#plotting age vs survived/no_survived\n",
    "titanic_df[survived].Age.hist(figsize = [8, 8], alpha = 0.7, bins = 20, label = \"survived\");\n",
    "titanic_df[no_survived].Age.hist(figsize = [8, 8], alpha = 0.5, bins = 20, label = \"no_survived\");\n",
    "plt.legend();\n",
    "plt.title(\"Number of passangers per age\");\n",
    "plt.xlabel(\"Age\");\n",
    "plt.ylabel(\"Number of Passangers\");"
   ]
  },
  {
   "cell_type": "markdown",
   "metadata": {},
   "source": [
    "> Other question is the passanger class ticket. We're inclined to believe that the proportion of the 1st class, 2nd and 3rd class who survived would be different. While most of the survivors would be from 1st, than 2nd and last 3rd."
   ]
  },
  {
   "cell_type": "code",
   "execution_count": 13,
   "metadata": {},
   "outputs": [
    {
     "data": {
      "image/png": "[encoded data removed]",
      "text/plain": [
       "<Figure size 432x288 with 1 Axes>"
      ]
     },
     "metadata": {
      "needs_background": "light"
     },
     "output_type": "display_data"
    }
   ],
   "source": [
    "#plotting pclass vs survived/no_survived\n",
    "g=  sns.countplot(x=\"Pclass\",hue = \"Survived\", data=titanic_df, hue_order=[1,0]);"
   ]
  },
  {
   "cell_type": "markdown",
   "metadata": {},
   "source": [
    "In the plot above we can see that the ideia that mosto of the survivals would be from 1st class is wrong, since there is little difference in the number of survivals from 1st and 3rd class, while the 2nd class less passangers survived.\n",
    "But if we look at proportions from 1st, 2nd and 3rd class the initial ideia is right, since most of passengers from 1st class survived, almost 50% from 2nd and almost 20% from 3rd class survived."
   ]
  },
  {
   "cell_type": "markdown",
   "metadata": {},
   "source": [
    "> The next and obivious question would be about the gender.\n",
    "\n",
    "By the code of conduct dating from 1852 (\"Women and children first.\"), whereby the lives of women and children were to be saved first in a life-threatening situation, typically abandoning ship, when survival resources such as lifeboats were limited.\n",
    "\n",
    "While the phrase first appeared in the 1860 novel Harrington: A Story of True Love, by William Douglas O'Connor, the first documented application of \"women and children first\" was in May 1840 when, after a lightning-strike, fire broke out aboard the American packet Poland en route from New York to Le Havre. According to a passenger, J.H. Buckingham of Boston.\n",
    "\n",
    "We can assume it was used in Titanic too since the pie chart bellow shows that most of women survived (nearly 75% of them), while only nearly 20% of the men survived."
   ]
  },
  {
   "cell_type": "code",
   "execution_count": 14,
   "metadata": {},
   "outputs": [],
   "source": [
    "#Creating function to create an alias between columns gender X survived to create a pie chart\n",
    "def alias(row):\n",
    "    if row['Survived'] == 1 and row['Sex'] == 'male':\n",
    "        val = \"Male and survived\"\n",
    "    elif row['Survived'] == 1 and row['Sex'] == 'female':\n",
    "        val = \"Female and survived\"\n",
    "    elif row['Survived'] == 0 and row['Sex'] == 'male':\n",
    "        val = \"Male and don't survived\"\n",
    "    else:\n",
    "        val = \"Female and don't survived\"\n",
    "    return val\n",
    "\n",
    "df_gender = titanic_df.apply(alias, axis = 1)"
   ]
  },
  {
   "cell_type": "code",
   "execution_count": 17,
   "metadata": {},
   "outputs": [
    {
     "data": {
      "image/png": "[encoded data removed]",
      "text/plain": [
       "<Figure size 576x576 with 1 Axes>"
      ]
     },
     "metadata": {},
     "output_type": "display_data"
    }
   ],
   "source": [
    "#Plotting pie chart by the aliases above\n",
    "df_gender.value_counts().plot(kind=\"pie\", figsize = [8, 8],  autopct='%1.1f%%', startangle=270, fontsize=17);\n",
    "plt.title(\"Correlation between passenger survival and gender\");\n",
    "plt.ylabel(\"\");\n",
    "plt.xlabel(\"\");"
   ]
  },
  {
   "cell_type": "markdown",
   "metadata": {},
   "source": [
    "Let's discover if the fara passengers pay helped in the survival rate"
   ]
  },
  {
   "cell_type": "markdown",
   "metadata": {},
   "source": [
    "<a id='ml'></a>\n",
    "## Machine Learning"
   ]
  },
  {
   "cell_type": "markdown",
   "metadata": {},
   "source": [
    "In this section we will select our the features, train, test and tune our machine learning to get good accuracy, score and recall"
   ]
  },
  {
   "cell_type": "code",
   "execution_count": 171,
   "metadata": {},
   "outputs": [],
   "source": [
    "#The first feature should be the label, if the passenger survived or not.\n",
    "features_list = ['Survived']\n",
    "features_list += ['Pclass','Age','SibSp','Parch','Fare','Male']"
   ]
  },
  {
   "cell_type": "code",
   "execution_count": 172,
   "metadata": {},
   "outputs": [],
   "source": [
    "#Creating replacing male for 1 and female for 0 in both datasets\n",
    "df[\"Male\"] = np.where(df['Sex']=='male', 1, 0)\n",
    "clean_test[\"Male\"] = np.where(clean_test['Sex']=='male', 1, 0)\n",
    "\n"
   ]
  },
  {
   "cell_type": "code",
   "execution_count": 173,
   "metadata": {},
   "outputs": [],
   "source": [
    "#getting labels\n",
    "#we have to use the cleaned data, because of the NaN values.\n",
    "labels = df.Survived\n",
    "features = df.loc[:, features_list[1:]]"
   ]
  },
  {
   "cell_type": "code",
   "execution_count": 174,
   "metadata": {
    "scrolled": true
   },
   "outputs": [
    {
     "name": "stdout",
     "output_type": "stream",
     "text": [
      "(891,)\n",
      "(891, 6)\n"
     ]
    }
   ],
   "source": [
    "print (labels.shape)\n",
    "print (features.shape)"
   ]
  },
  {
   "cell_type": "code",
   "execution_count": 175,
   "metadata": {},
   "outputs": [],
   "source": [
    "#Creating the train/test data\n",
    "from sklearn import model_selection\n",
    "features_train, features_test, labels_train, labels_test = \\\n",
    "model_selection.train_test_split(features, labels, test_size=0.4, random_state=42)"
   ]
  },
  {
   "cell_type": "markdown",
   "metadata": {},
   "source": [
    "### Classifiers"
   ]
  },
  {
   "cell_type": "code",
   "execution_count": 176,
   "metadata": {},
   "outputs": [],
   "source": [
    "from sklearn.metrics import accuracy_score, precision_score, recall_score"
   ]
  },
  {
   "cell_type": "markdown",
   "metadata": {},
   "source": [
    "#### Gaussian Naive Bayes"
   ]
  },
  {
   "cell_type": "code",
   "execution_count": 177,
   "metadata": {},
   "outputs": [
    {
     "name": "stdout",
     "output_type": "stream",
     "text": [
      "Training time:  0.003 s\n"
     ]
    }
   ],
   "source": [
    "from sklearn.naive_bayes import GaussianNB\n",
    "#creating the classifier\n",
    "nb_clf = GaussianNB()\n",
    "t0 = time()\n",
    "nb_clf.fit(features,labels)\n",
    "print (\"Training time: \", round(time()-t0,3), \"s\" )"
   ]
  },
  {
   "cell_type": "code",
   "execution_count": 178,
   "metadata": {},
   "outputs": [
    {
     "name": "stdout",
     "output_type": "stream",
     "text": [
      "Predicting Time:  0.001 s\n"
     ]
    }
   ],
   "source": [
    "t0=time()\n",
    "pred = nb_clf.predict(features_test)\n",
    "print (\"Predicting Time: \", round(time()-t0,3), \"s\" )"
   ]
  },
  {
   "cell_type": "code",
   "execution_count": 179,
   "metadata": {},
   "outputs": [
    {
     "name": "stdout",
     "output_type": "stream",
     "text": [
      "NAIVE BAYES STATS:\n",
      "Accuracy: 0.7871148459383753\n",
      "Precision: 0.7443609022556391\n",
      "Recall: 0.7021276595744681\n"
     ]
    }
   ],
   "source": [
    "#getting Accuracy/recall/precision for Naive Bayes\n",
    "accuracy = accuracy_score(labels_test, pred)\n",
    "precision = precision_score(labels_test, pred)\n",
    "recall = recall_score(labels_test, pred)\n",
    "print (\"NAIVE BAYES STATS:\")\n",
    "print (\"Accuracy: \" + str(accuracy))\n",
    "print (\"Precision: \" + str(precision))\n",
    "print (\"Recall: \" + str(recall))"
   ]
  },
  {
   "cell_type": "markdown",
   "metadata": {},
   "source": [
    "### Decision Tree"
   ]
  },
  {
   "cell_type": "code",
   "execution_count": 180,
   "metadata": {},
   "outputs": [
    {
     "name": "stdout",
     "output_type": "stream",
     "text": [
      "Training time:  0.003 s\n"
     ]
    }
   ],
   "source": [
    "from sklearn.tree import DecisionTreeClassifier    \n",
    "clf_dt = DecisionTreeClassifier( min_samples_leaf=12, min_samples_split=14,\n",
    "           random_state=42)\n",
    "t0 = time()\n",
    "clf_dt.fit(features,labels)\n",
    "print (\"Training time: \", round(time()-t0,3), \"s\" )"
   ]
  },
  {
   "cell_type": "code",
   "execution_count": 181,
   "metadata": {},
   "outputs": [
    {
     "name": "stdout",
     "output_type": "stream",
     "text": [
      "Predicting Time:  0.002 s\n"
     ]
    }
   ],
   "source": [
    "t0=time()\n",
    "pred = clf_dt.predict(features_test)\n",
    "print (\"Predicting Time: \", round(time()-t0,3), \"s\" )"
   ]
  },
  {
   "cell_type": "code",
   "execution_count": 182,
   "metadata": {},
   "outputs": [
    {
     "name": "stdout",
     "output_type": "stream",
     "text": [
      "NAIVE BAYES STATS:\n",
      "Accuracy: 0.8319327731092437\n",
      "Precision: 0.8091603053435115\n",
      "Recall: 0.75177304964539\n"
     ]
    }
   ],
   "source": [
    "#getting Accuracy/recall/precision for Naive Bayes\n",
    "accuracy = accuracy_score(labels_test, pred)\n",
    "precision = precision_score(labels_test, pred)\n",
    "recall = recall_score(labels_test, pred)\n",
    "print (\"NAIVE BAYES STATS:\")\n",
    "print (\"Accuracy: \" + str(accuracy))\n",
    "print (\"Precision: \" + str(precision))\n",
    "print (\"Recall: \" + str(recall))"
   ]
  },
  {
   "cell_type": "markdown",
   "metadata": {},
   "source": [
    "### Random Forest"
   ]
  },
  {
   "cell_type": "code",
   "execution_count": 198,
   "metadata": {},
   "outputs": [
    {
     "name": "stdout",
     "output_type": "stream",
     "text": [
      "Training time:  0.131 s\n"
     ]
    }
   ],
   "source": [
    "from sklearn.ensemble import RandomForestClassifier\n",
    "clf_rf = RandomForestClassifier(n_estimators = 150, max_depth=15, random_state=42, max_features='auto')\n",
    "t0 = time()\n",
    "clf_rf.fit(features,labels)\n",
    "print (\"Training time: \", round(time()-t0,3), \"s\" )"
   ]
  },
  {
   "cell_type": "code",
   "execution_count": 199,
   "metadata": {},
   "outputs": [
    {
     "name": "stdout",
     "output_type": "stream",
     "text": [
      "Predicting Time:  0.014 s\n"
     ]
    }
   ],
   "source": [
    "t0=time()\n",
    "pred = clf_rf.predict(features_test)\n",
    "print (\"Predicting Time: \", round(time()-t0,3), \"s\" )"
   ]
  },
  {
   "cell_type": "code",
   "execution_count": 200,
   "metadata": {},
   "outputs": [
    {
     "name": "stdout",
     "output_type": "stream",
     "text": [
      "NAIVE BAYES STATS:\n",
      "Accuracy: 0.9831932773109243\n",
      "Precision: 0.9856115107913669\n",
      "Recall: 0.9716312056737588\n"
     ]
    }
   ],
   "source": [
    "#getting Accuracy/recall/precision for Naive Bayes\n",
    "accuracy = accuracy_score(labels_test, pred)\n",
    "precision = precision_score(labels_test, pred)\n",
    "recall = recall_score(labels_test, pred)\n",
    "print (\"NAIVE BAYES STATS:\")\n",
    "print (\"Accuracy: \" + str(accuracy))\n",
    "print (\"Precision: \" + str(precision))\n",
    "print (\"Recall: \" + str(recall))"
   ]
  },
  {
   "cell_type": "markdown",
   "metadata": {},
   "source": [
    "## Testing and creating the test file"
   ]
  },
  {
   "cell_type": "markdown",
   "metadata": {},
   "source": [
    "Let's use the Random Forest classifier."
   ]
  },
  {
   "cell_type": "code",
   "execution_count": 201,
   "metadata": {},
   "outputs": [],
   "source": [
    "clf = clf_rf"
   ]
  },
  {
   "cell_type": "markdown",
   "metadata": {},
   "source": [
    "Let's predict if passenger survived with the real test data"
   ]
  },
  {
   "cell_type": "code",
   "execution_count": 202,
   "metadata": {},
   "outputs": [],
   "source": [
    "real_features_test = clean_test.loc[:, features_list[1:]]"
   ]
  },
  {
   "cell_type": "code",
   "execution_count": 203,
   "metadata": {},
   "outputs": [
    {
     "name": "stdout",
     "output_type": "stream",
     "text": [
      "Predicting Time:  0.024 s\n"
     ]
    }
   ],
   "source": [
    "t0=time()\n",
    "pred = clf.predict(real_features_test)\n",
    "print (\"Predicting Time: \", round(time()-t0,3), \"s\" )"
   ]
  },
  {
   "cell_type": "markdown",
   "metadata": {},
   "source": [
    "Let's create the new dataset"
   ]
  },
  {
   "cell_type": "code",
   "execution_count": 204,
   "metadata": {},
   "outputs": [],
   "source": [
    "clean_test[\"Survived\"] = pred"
   ]
  },
  {
   "cell_type": "code",
   "execution_count": 205,
   "metadata": {},
   "outputs": [],
   "source": [
    "new_file = clean_test[['PassengerId','Survived']]"
   ]
  },
  {
   "cell_type": "code",
   "execution_count": 206,
   "metadata": {},
   "outputs": [],
   "source": [
    "new_file.to_csv('result.csv', sep=',' ,index = False)"
   ]
  },
  {
   "cell_type": "markdown",
   "metadata": {},
   "source": [
    "Loading the correct answer"
   ]
  },
  {
   "cell_type": "code",
   "execution_count": 207,
   "metadata": {},
   "outputs": [],
   "source": [
    "answer = pd.read_csv('gender_submission.csv')"
   ]
  },
  {
   "cell_type": "markdown",
   "metadata": {},
   "source": [
    "Getting the statistics"
   ]
  },
  {
   "cell_type": "code",
   "execution_count": 208,
   "metadata": {},
   "outputs": [],
   "source": [
    "correct = answer.Survived\n",
    "pred = new_file.Survived"
   ]
  },
  {
   "cell_type": "code",
   "execution_count": 209,
   "metadata": {
    "scrolled": true
   },
   "outputs": [
    {
     "name": "stdout",
     "output_type": "stream",
     "text": [
      "Accuracy: 0.8325358851674641\n",
      "Precision: 0.7808219178082192\n",
      "Recall: 0.75\n"
     ]
    }
   ],
   "source": [
    "accuracy = accuracy_score(correct,pred)\n",
    "precision = precision_score(correct, pred)\n",
    "recall = recall_score(correct, pred)\n",
    "\n",
    "print (\"Accuracy: \" + str(accuracy))\n",
    "print (\"Precision: \" + str(precision))\n",
    "print (\"Recall: \" + str(recall))"
   ]
  },
  {
   "cell_type": "markdown",
   "metadata": {},
   "source": [
    "<a id='conclusions'></a>\n",
    "## Conclusions"
   ]
  },
  {
   "cell_type": "markdown",
   "metadata": {},
   "source": [
    " The machine learning algorithm that fits better our training was the 'Random Forest', we can conclude it by looking at Accuracy, Precision and Recall.\n",
    " \n",
    " By this training results we choose this classifier to test our data and generate our final results.\n",
    "\n",
    " We can observe by the EDA that most of the survivours are females and the number of survivour by Pclass don't have big changes, but the percentage of survivours in each Pclass have."
   ]
  }
 ],
 "metadata": {
  "kernelspec": {
   "display_name": "Python 3",
   "language": "python",
   "name": "python3"
  },
  "language_info": {
   "codemirror_mode": {
    "name": "ipython",
    "version": 3
   },
   "file_extension": ".py",
   "mimetype": "text/x-python",
   "name": "python",
   "nbconvert_exporter": "python",
   "pygments_lexer": "ipython3",
   "version": "3.7.0"
  }
 },
 "nbformat": 4,
 "nbformat_minor": 2
}
